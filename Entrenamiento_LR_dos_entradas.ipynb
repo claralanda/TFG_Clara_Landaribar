{
  "nbformat": 4,
  "nbformat_minor": 0,
  "metadata": {
    "colab": {
      "name": "Entrenamiento_LR_dos_entradas.ipynb",
      "provenance": [],
      "collapsed_sections": [],
      "authorship_tag": "ABX9TyO04XNKsjrTPGv4Bka1yE4v",
      "include_colab_link": true
    },
    "kernelspec": {
      "name": "python3",
      "display_name": "Python 3"
    },
    "language_info": {
      "name": "python"
    }
  },
  "cells": [
    {
      "cell_type": "markdown",
      "metadata": {
        "id": "view-in-github",
        "colab_type": "text"
      },
      "source": [
        "<a href=\"https://colab.research.google.com/github/claralanda/TFG_Clara_Landaribar/blob/main/Entrenamiento_LR_dos_entradas.ipynb\" target=\"_parent\"><img src=\"https://colab.research.google.com/assets/colab-badge.svg\" alt=\"Open In Colab\"/></a>"
      ]
    },
    {
      "cell_type": "code",
      "metadata": {
        "id": "dhWwziCC2x6J"
      },
      "source": [
        "import pandas as pd\n",
        "import numpy as np\n",
        "import matplotlib.pyplot as plt\n",
        "%matplotlib inline\n",
        "import seaborn as sns\n",
        "\n",
        "from google.colab import drive\n",
        "drive.mount('/content/drive')\n",
        "\n",
        "%cd /content/drive/My \\Drive/Datos/BLEU\n",
        "\n",
        "raw_data = pd.read_excel('LR_data.xlsx')\n",
        "np.any(np.isnan(raw_data))"
      ],
      "execution_count": null,
      "outputs": []
    },
    {
      "cell_type": "markdown",
      "metadata": {
        "id": "ri8IOTrYdQG4"
      },
      "source": [
        "Información de los datos e histograma:"
      ]
    },
    {
      "cell_type": "code",
      "metadata": {
        "id": "Anp_9vZw2z1_"
      },
      "source": [
        "raw_data.info()\n",
        "sns.pairplot(raw_data, vars=[\"modelo_1_mono\",\"modelo_2_multi\",\"modelo_3_multi\"])"
      ],
      "execution_count": null,
      "outputs": []
    },
    {
      "cell_type": "code",
      "metadata": {
        "id": "sEqcXZsN21ru"
      },
      "source": [
        "raw_data.columns\n",
        "y = raw_data['modelo_1_mono']\n",
        "x = raw_data[['modelo_2_multi','modelo_3_multi']]"
      ],
      "execution_count": null,
      "outputs": []
    },
    {
      "cell_type": "markdown",
      "metadata": {
        "id": "9KLADpL-dTh7"
      },
      "source": [
        "División datos en entrenamiento y test:"
      ]
    },
    {
      "cell_type": "code",
      "metadata": {
        "id": "Jd66Gmx-24PI"
      },
      "source": [
        "from sklearn.model_selection import train_test_split\n",
        "x_train, x_test, y_train, y_test = train_test_split(x, y, test_size = 0.3)"
      ],
      "execution_count": null,
      "outputs": []
    },
    {
      "cell_type": "code",
      "metadata": {
        "id": "8bftl2wMdZu4"
      },
      "source": [
        "Obtención coeficientes, entrenamiento:"
      ],
      "execution_count": null,
      "outputs": []
    },
    {
      "cell_type": "code",
      "metadata": {
        "id": "CqtkWzM527KY"
      },
      "source": [
        "from sklearn.linear_model import LinearRegression\n",
        "model = LinearRegression()\n",
        "model.fit(x_train, y_train)\n",
        "print(model.coef_)"
      ],
      "execution_count": null,
      "outputs": []
    },
    {
      "cell_type": "code",
      "metadata": {
        "id": "J08nAsVC29dh"
      },
      "source": [
        "predictions = model.predict(x_test)\n",
        "plt.scatter(y_test, predictions)"
      ],
      "execution_count": null,
      "outputs": []
    },
    {
      "cell_type": "code",
      "metadata": {
        "id": "vehQh_vj2909"
      },
      "source": [
        "plt.hist(y_test - predictions)"
      ],
      "execution_count": null,
      "outputs": []
    },
    {
      "cell_type": "code",
      "metadata": {
        "id": "0nJ2Ape42_Y_"
      },
      "source": [
        "from sklearn.metrics import r2_score\n",
        "r2_score(y_test,predictions)"
      ],
      "execution_count": null,
      "outputs": []
    },
    {
      "cell_type": "markdown",
      "metadata": {
        "id": "OvNM32o9dfGB"
      },
      "source": [
        "Test manual:"
      ]
    },
    {
      "cell_type": "code",
      "metadata": {
        "id": "7z77TvzI3Cwa"
      },
      "source": [
        "n_correcta=0\n",
        "n_erronea=0\n",
        "resultados=[]\n",
        "y=y_test.to_list()\n",
        "\n",
        "for x in range(len(y)):\n",
        "  resultados.append(abs(predictions[x]- y[x]))\n",
        "  if abs(predictions[x] - y[x]) < 0.07:\n",
        "    print(predictions[x],y[x])\n",
        "    n_correcta=n_correcta+1\n",
        "  else :\n",
        "    n_erronea=n_erronea+1\n",
        "\n",
        "print (n_correcta)\n",
        "print(n_erronea)\n",
        "print (resultados)\n",
        "\n",
        "print(n_correcta/(n_correcta+n_erronea)*100)\n",
        "plt.hist(y_test - predictions)"
      ],
      "execution_count": null,
      "outputs": []
    },
    {
      "cell_type": "markdown",
      "metadata": {
        "id": "kiDWtjutduHr"
      },
      "source": [
        "Obtención intervalo de confianza:"
      ]
    },
    {
      "cell_type": "code",
      "metadata": {
        "id": "15pEdbLL3F5v"
      },
      "source": [
        "import numpy as np\n",
        "import scipy.stats\n",
        "\n",
        "def mean_confidence_interval(data, confidence=0.95):\n",
        "    a = 1.0 * np.array(data)\n",
        "    n = len(a)\n",
        "    m, se = np.mean(a), scipy.stats.sem(a)\n",
        "    h = se * scipy.stats.t.ppf((1 + confidence) / 2., n-1)\n",
        "    return m, m-h, m+h\n",
        "\n",
        "print(mean_confidence_interval(resultados, confidence=0.95))"
      ],
      "execution_count": null,
      "outputs": []
    }
  ]
}