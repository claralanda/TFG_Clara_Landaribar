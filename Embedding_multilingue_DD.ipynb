{
  "nbformat": 4,
  "nbformat_minor": 0,
  "metadata": {
    "colab": {
      "name": "Embedding_multilingue_DD.ipynb",
      "provenance": [],
      "collapsed_sections": [],
      "authorship_tag": "ABX9TyMhDGHtLQkpEcBTroq7h1dD",
      "include_colab_link": true
    },
    "kernelspec": {
      "display_name": "Python 3",
      "name": "python3"
    },
    "language_info": {
      "name": "python"
    }
  },
  "cells": [
    {
      "cell_type": "markdown",
      "metadata": {
        "id": "view-in-github",
        "colab_type": "text"
      },
      "source": [
        "<a href=\"https://colab.research.google.com/github/claralanda/TFG_Clara_Landaribar/blob/main/Embedding_multilingue_DD.ipynb\" target=\"_parent\"><img src=\"https://colab.research.google.com/assets/colab-badge.svg\" alt=\"Open In Colab\"/></a>"
      ]
    },
    {
      "cell_type": "code",
      "metadata": {
        "id": "TkYXw6n6KR1x"
      },
      "source": [
        "pip install -U sentence-transformers"
      ],
      "execution_count": null,
      "outputs": []
    },
    {
      "cell_type": "code",
      "metadata": {
        "colab": {
          "base_uri": "https://localhost:8080/"
        },
        "id": "stF9NC3_qohk",
        "outputId": "8416604b-006e-43db-f114-d0e2ca6f3deb"
      },
      "source": [
        "import numpy as np\n",
        "import pandas as pd\n",
        "%cd /content/drive/My \\Drive/Datos/BLEU\n",
        "from google.colab import drive\n",
        "drive.mount('/content/drive')\n",
        "\n",
        "DD_reference_dataset = pd.read_csv(\"DAILYD_translation_en2es.csv\")\n",
        "DD_translation_dataset = pd.read_csv(\"DAILYD_translation_es2en.csv\")\n",
        "\n",
        "DD_reference = DD_reference_dataset['SEG']\n",
        "DD_translation = DD_reference_dataset['translation']\n",
        "DD_candidate = DD_translation_dataset['translation']\n",
        "n_DD=len(DD_reference)\n",
        "print(len(DD_reference))\n"
      ],
      "execution_count": null,
      "outputs": [
        {
          "output_type": "stream",
          "text": [
            "/content/drive/My Drive/Datos/BLEU\n",
            "Drive already mounted at /content/drive; to attempt to forcibly remount, call drive.mount(\"/content/drive\", force_remount=True).\n",
            "102968\n"
          ],
          "name": "stdout"
        }
      ]
    },
    {
      "cell_type": "code",
      "metadata": {
        "id": "p6QB_b_qf1h7"
      },
      "source": [
        "from sentence_transformers import SentenceTransformer, util\n",
        "import re\n",
        "from scipy import spatial\n",
        "\n",
        "\n",
        "model_0=SentenceTransformer('paraphrase-multilingual-mpnet-base-v2')\n",
        "model_1=SentenceTransformer('paraphrase-multilingual-MiniLM-L12-v2')\n",
        "model_2=SentenceTransformer('distiluse-base-multilingual-cased-v1')\n",
        "model_3=SentenceTransformer('paraphrase-xlm-r-multilingual-v1')\n",
        "model_4=SentenceTransformer('stsb-xlm-r-multilingual')\n",
        "model_5=SentenceTransformer('quora-distilbert-multilingual')\n",
        "\n",
        "\n",
        "res_matrix=[]\n",
        "res_matriz=[]\n",
        "\n",
        "for x in range(len(DD_reference)):\n",
        "  \n",
        "  ref = re.sub(r'\\s([?.!\",’](?:\\s|$))', r'\\1', DD_reference[x])\n",
        "  trans = re.sub(r'\\s([?.!\"](?:\\s|$))', r'\\1', DD_translation[x])\n",
        "\n",
        "  emb_trans = [model_0.encode(trans),model_1.encode(trans),model_2.encode(trans),model_3.encode(trans),model_4.encode(trans),model_5.encode(trans)]\n",
        "  emb_ref = [model_0.encode(ref),model_1.encode(ref),model_2.encode(ref),model_3.encode(ref),model_4.encode(ref),model_5.encode(ref)]\n",
        "  \n",
        "  coseno = [1-spatial.distance.cosine(emb_ref[0], emb_trans[0]),1-spatial.distance.cosine(emb_ref[1], emb_trans[1]),1-spatial.distance.cosine(emb_ref[2], emb_trans[2]),1-spatial.distance.cosine(emb_ref[3], emb_trans[3]),1-spatial.distance.cosine(emb_ref[4], emb_trans[4]),1-spatial.distance.cosine(emb_ref[5], emb_trans[5])] \n",
        "\n",
        "  res_matriz.append(coseno)\n"
      ],
      "execution_count": null,
      "outputs": []
    },
    {
      "cell_type": "code",
      "metadata": {
        "id": "-p_nUR2vV5Lg"
      },
      "source": [
        "dt=pd.DataFrame(res_matriz)\n",
        "df.columns = ['modelo_0_multi','modelo_1_multi','modelo_2_multi','modelo_3_multi','modelo_4_multi','modelo_5_multi']\n",
        "dt.to_excel(excel_writer = \"Embedding_multilingue_DD.xlsx\")"
      ],
      "execution_count": null,
      "outputs": []
    }
  ]
}