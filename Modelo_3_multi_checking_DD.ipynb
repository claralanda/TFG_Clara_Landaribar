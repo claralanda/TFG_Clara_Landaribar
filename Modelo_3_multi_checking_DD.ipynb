{
  "nbformat": 4,
  "nbformat_minor": 0,
  "metadata": {
    "colab": {
      "name": "Modelo_3_multi_checking_DD.ipynb",
      "provenance": [],
      "collapsed_sections": [],
      "authorship_tag": "ABX9TyPQQTgBMnhJu2AIiju0zog/",
      "include_colab_link": true
    },
    "kernelspec": {
      "display_name": "Python 3",
      "name": "python3"
    },
    "language_info": {
      "name": "python"
    }
  },
  "cells": [
    {
      "cell_type": "markdown",
      "metadata": {
        "id": "view-in-github",
        "colab_type": "text"
      },
      "source": [
        "<a href=\"https://colab.research.google.com/github/claralanda/TFG_Clara_Landaribar/blob/main/Modelo_3_multi_checking_DD.ipynb\" target=\"_parent\"><img src=\"https://colab.research.google.com/assets/colab-badge.svg\" alt=\"Open In Colab\"/></a>"
      ]
    },
    {
      "cell_type": "code",
      "metadata": {
        "id": "e2NeaHUrKrPN"
      },
      "source": [
        "import pandas as pd\n",
        "import numpy as np\n",
        "import matplotlib.pyplot as plt\n",
        "%matplotlib inline\n",
        "import seaborn as sns\n",
        "\n",
        "from google.colab import drive\n",
        "drive.mount('/content/drive')\n",
        "\n",
        "%cd /content/drive/My \\Drive/Datos/BLEU\n",
        "\n",
        "DD_reference_dataset = pd.read_csv(\"DAILYD_translation_en2es.csv\")\n",
        "DD_reference = DD_reference_dataset['SEG']\n",
        "DD_translation = DD_reference_dataset['translation']\n",
        "\n",
        "Puntuaciones_dataset = pd.read_excel(\"Embedding_multilingue_DD.xlsx\")\n",
        "Puntuaciones = Puntuaciones_dataset['modelo_3_multi']"
      ],
      "execution_count": null,
      "outputs": []
    },
    {
      "cell_type": "code",
      "metadata": {
        "id": "i3os4qqa3_pd"
      },
      "source": [
        "import matplotlib.pyplot as plt\n",
        "import seaborn as sns\n",
        "\n",
        "plot = Puntuaciones_dataset.plot(\"modelo_3_multi\")\n",
        "plt.show()\n",
        "plt.hist(Puntuaciones)"
      ],
      "execution_count": null,
      "outputs": []
    },
    {
      "cell_type": "markdown",
      "metadata": {
        "id": "WZMnAZZtXaD4"
      },
      "source": [
        "Cuenta valoracioes por grupos y su media de caracteres:"
      ]
    },
    {
      "cell_type": "code",
      "metadata": {
        "colab": {
          "background_save": true
        },
        "id": "BoyHGLLuqH7B"
      },
      "source": [
        "cuenta_A,cuenta_B,cuenta_C,cuenta_D,cuenta_E,cuenta_F=0\n",
        "score_total_A,score_total_B,score_total_C,score_total_D,score_total_E,score_total_F=0\n",
        "\n",
        "for x in range(len(DD_reference)-1):\n",
        "\n",
        "  if Puntuaciones[x] >= 0 and Puntuaciones[x]<= 0.6:\n",
        "    score_total_A=score_total_A+len(DD_reference[x])\n",
        "    cuenta_A = cuenta_A+1\n",
        "\n",
        "  if Puntuaciones[x] > 0.6 and Puntuaciones[x]<= 0.7:\n",
        "    score_total_B=score_total_B+len(DD_reference[x])\n",
        "    cuenta_B = cuenta_B+1\n",
        "\n",
        "  if Puntuaciones[x] > 0.7 and Puntuaciones[x]<= 0.8:\n",
        "    score_total_C=score_total_C+len(DD_reference[x])\n",
        "    cuenta_C = cuenta_C+1\n",
        "\n",
        "  if Puntuaciones[x] > 0.8 and Puntuaciones[x]<= 0.9:\n",
        "    score_total_D=score_total_D+len(DD_reference[x])\n",
        "    cuenta_D = cuenta_D+1\n",
        "\n",
        "  if Puntuaciones[x] > 0.9 and Puntuaciones[x]<= 0.95:\n",
        "    score_total_E=score_total_E+len(DD_reference[x])\n",
        "    cuenta_E = cuenta_E+1\n",
        "\n",
        "  if Puntuaciones[x] > 0.95 and Puntuaciones[x]<= 1:\n",
        "    score_total_F=score_total_F+len(DD_reference[x])\n",
        "    cuenta_F = cuenta_F+1\n",
        "\n",
        "print(cuenta_A,cuenta_B,cuenta_C,cuenta_D,cuenta_E,cuenta_F)\n",
        "print(score_total_A/cuenta_A)\n",
        "print(score_total_B/cuenta_B)\n",
        "print(score_total_C/cuenta_C)\n",
        "print(score_total_D/cuenta_D)\n",
        "print(score_total_E/cuenta_E)\n",
        "print(score_total_F/cuenta_F)"
      ],
      "execution_count": null,
      "outputs": []
    },
    {
      "cell_type": "markdown",
      "metadata": {
        "id": "Afw4Fph4Xv6m"
      },
      "source": [
        "Procesado de errores y conteo:"
      ]
    },
    {
      "cell_type": "code",
      "metadata": {
        "id": "EDimj0c4rZS4"
      },
      "source": [
        "datos=[]\n",
        "n_0=0\n",
        "n_1=0\n",
        "n_2=0\n",
        "\n",
        "for x in range(len(DD_reference)-1):\n",
        "\n",
        "  if Puntuaciones[x] >= 0 and Puntuaciones[x]<=1:\n",
        "    if DD_translation[x].find(\"Hemos detectado un problema \") != -1 or DD_translation[x].find(\"Si estás utilizando un ordenador\") != -1 or DD_translation[x].find(\"sigues teniendo problemas\") != -1 or DD_translation[x].find(\"Hemos detectado un error desconocido\") != -1:\n",
        "      print(x, DD_reference[x])\n",
        "      print(DD_translation[x])\n",
        "      print(Puntuaciones[x])\n",
        "      n_0 = n_0+1\n",
        "\n",
        "  if Puntuaciones[x] >=0 and Puntuaciones[x]<=0.7:\n",
        "    if DD_translation[x].find(\"Muchas gracias\") != -1:\n",
        "      print(x, DD_reference[x])\n",
        "      print(DD_translation[x])\n",
        "      print(Puntuaciones[x])\n",
        "      n_1 = n_1+1\n",
        "      print(\"Nueva puntuación\")\n",
        "      score=input()\n",
        "      vector=[score,x]\n",
        "      datos.append(vector)\n",
        "\n",
        "    if DD_translation[x].find(\"De nada\") != -1:\n",
        "      print(x, DD_reference[x])\n",
        "      print(DD_translation[x])\n",
        "      print(Puntuaciones[x])\n",
        "      n_2 = n_2+1\n",
        "      print(\"Nueva puntuación\")\n",
        "      score=input()\n",
        "      vector=[score,x]\n",
        "      datos.append(vector)\n",
        "\n",
        "  else:  \n",
        "    vector=[Puntuaciones[x],x]    \n",
        "    datos.append(vector)\n",
        "\n",
        "print(n_0,n_1,n_2)\n"
      ],
      "execution_count": null,
      "outputs": []
    },
    {
      "cell_type": "code",
      "metadata": {
        "id": "c7gD-32Ls9aF"
      },
      "source": [
        "df=pd.DataFrame(datos)\n",
        "df.columns = ['puntuacion', 'indice']\n",
        "df.to_excel(excel_writer = \"Puntuaciones_procesadas_DD.xlsx\")"
      ],
      "execution_count": null,
      "outputs": []
    },
    {
      "cell_type": "markdown",
      "metadata": {
        "id": "RdWGdz9JXyR0"
      },
      "source": [
        "Revisión elementos aleatorios:"
      ]
    },
    {
      "cell_type": "code",
      "metadata": {
        "id": "_LdeHoQLCcGH"
      },
      "source": [
        "import random\n",
        "vector_rand_a=[]\n",
        "vector_rand_b=[]\n",
        "vector_rand_c=[]\n",
        "vector_rand_d=[]\n",
        "vector_rand_e=[]\n",
        "vector_rand_f=[]\n",
        "vector_rand_g=[]\n",
        "vector_rand_h=[]\n",
        "vector_rand_i=[]\n",
        "vector_rand_j=[]\n",
        "datos=[]\n",
        "\n",
        "\n",
        "for x in range(20):\n",
        "  rand_a = random.randint(0,680)\n",
        "  vector_rand_a.append(rand_a)\n",
        "  rand_b = random.randint(681,1750)\n",
        "  vector_rand_b.append(rand_b)\n",
        "  rand_c = random.randint(1751,3277)\n",
        "  vector_rand_c.append(rand_c)\n",
        "  rand_d = random.randint(3278,5694)\n",
        "  vector_rand_d.append(rand_d)\n",
        "  rand_e = random.randint(5695,9464)\n",
        "  vector_rand_e.append(rand_e)\n",
        "  rand_f = random.randint(9465,15803)\n",
        "  vector_rand_f.append(rand_f)\n",
        "  rand_g = random.randint(15804,26180)\n",
        "  vector_rand_g.append(rand_g)\n",
        "  rand_h = random.randint(26181,43695)\n",
        "  vector_rand_h.append(rand_h)\n",
        "  rand_i = random.randint(43696,72654)\n",
        "  vector_rand_i.append(rand_i)\n",
        "  rand_j = random.randint(72655,101448)\n",
        "  vector_rand_j.append(rand_j)\n",
        "\n",
        "datos.append(vector_rand_a)\n",
        "datos.append(vector_rand_b)\n",
        "datos.append(vector_rand_c)\n",
        "datos.append(vector_rand_d)\n",
        "datos.append(vector_rand_e)\n",
        "datos.append(vector_rand_f)\n",
        "datos.append(vector_rand_g)\n",
        "datos.append(vector_rand_h)\n",
        "datos.append(vector_rand_i)\n",
        "datos.append(vector_rand_j)\n",
        "\n",
        "print(datos)\n",
        "datos=np.transpose(datos)\n",
        "print(datos)"
      ],
      "execution_count": null,
      "outputs": []
    },
    {
      "cell_type": "code",
      "metadata": {
        "id": "7JNXZmJJnzLS"
      },
      "source": [
        "df=pd.DataFrame(datos)\n",
        "df.columns = ['random_0','random_1','random_2','random_3','random_4','random_5','random_6','random_7','random_8','random_9']\n",
        "df.to_excel(excel_writer = \"Matriz_elementos_aleatorios_DD.xlsx\")"
      ],
      "execution_count": null,
      "outputs": []
    },
    {
      "cell_type": "code",
      "metadata": {
        "id": "omMQMheBqDTR"
      },
      "source": [
        "Indices_aleatorios_dataset = pd.read_excel(\"Matriz_elementos_aleatorios.xlsx\")\n",
        "Indices_aleatorios = Indices_aleatorios_dataset[['random_0','random_1','random_2','random_3','random_4','random_5','random_6','random_7','random_8','random_9']]\n",
        "vector_rand_0=[]\n",
        "vector_rand_1=[]\n",
        "vector_rand_2=[]\n",
        "vector_rand_3=[]\n",
        "vector_rand_4=[]\n",
        "vector_rand_5=[]\n",
        "vector_rand_6=[]\n",
        "vector_rand_7=[]\n",
        "vector_rand_8=[]\n",
        "vector_rand_9=[]\n",
        "datos=[]\n",
        "\n",
        "for x in range(2):\n",
        "  print(DD_reference[Indices_aleatorios['random_0'][x]])\n",
        "  print(DD_translation[Indices_aleatorios['random_0'][x]])\n",
        "  valor=input()\n",
        "  vector_rand_0.append(valor)\n",
        "  print(DD_reference[Indices_aleatorios['random_1'][x]])\n",
        "  print(DD_translation[Indices_aleatorios['random_1'][x]])\n",
        "  valor=input()\n",
        "  vector_rand_1.append(valor)\n",
        "  print(DD_reference[Indices_aleatorios['random_2'][x]])\n",
        "  print(DD_translation[Indices_aleatorios['random_2'][x]])\n",
        "  valor=input()\n",
        "  vector_rand_2.append(valor)\n",
        "  print(DD_reference[Indices_aleatorios['random_3'][x]])\n",
        "  print(DD_translation[Indices_aleatorios['random_3'][x]])\n",
        "  valor=input()\n",
        "  vector_rand_3.append(valor)  \n",
        "  print(DD_reference[Indices_aleatorios['random_4'][x]])\n",
        "  print(DD_translation[Indices_aleatorios['random_4'][x]])\n",
        "  valor=input()\n",
        "  vector_rand_4.append(valor)\n",
        "  print(DD_reference[Indices_aleatorios['random_5'][x]])\n",
        "  print(DD_translation[Indices_aleatorios['random_5'][x]])\n",
        "  valor=input()\n",
        "  vector_rand_5.append(valor)\n",
        "  print(DD_reference[Indices_aleatorios['random_6'][x]])\n",
        "  print(DD_translation[Indices_aleatorios['random_6'][x]])\n",
        "  valor=input()\n",
        "  vector_rand_6.append(valor)\n",
        "  print(DD_reference[Indices_aleatorios['random_7'][x]])\n",
        "  print(DD_translation[Indices_aleatorios['random_7'][x]])\n",
        "  valor=input()\n",
        "  vector_rand_7.append(valor)    \n",
        "  print(DD_reference[Indices_aleatorios['random_8'][x]])\n",
        "  print(DD_translation[Indices_aleatorios['random_8'][x]])\n",
        "  valor=input()\n",
        "  vector_rand_8.append(valor)    \n",
        "  print(DD_reference[Indices_aleatorios['random_9'][x]])\n",
        "  print(DD_translation[Indices_aleatorios['random_9'][x]])\n",
        "  valor=input()\n",
        "  vector_rand_9.append(valor)    \n",
        "       \n",
        "datos.append(vector_rand_0)\n",
        "datos.append(vector_rand_1)\n",
        "datos.append(vector_rand_2)\n",
        "datos.append(vector_rand_3)\n",
        "datos.append(vector_rand_4)\n",
        "datos.append(vector_rand_5)\n",
        "datos.append(vector_rand_6)\n",
        "datos.append(vector_rand_7)\n",
        "datos.append(vector_rand_8)\n",
        "datos.append(vector_rand_9)\n",
        "\n",
        "print(Indices_aleatorios.loc[[0]])\n",
        "print(Indices_aleatorios['random_0'][0])\n"
      ],
      "execution_count": null,
      "outputs": []
    },
    {
      "cell_type": "code",
      "metadata": {
        "id": "fkUoVeN5N2UM"
      },
      "source": [
        "df=pd.DataFrame(datos)\n",
        "df.columns = ['revision','indice']\n",
        "df.to_excel(excel_writer = \"Revisión_aleatoria_DD.xlsx\")"
      ],
      "execution_count": null,
      "outputs": []
    }
  ]
}