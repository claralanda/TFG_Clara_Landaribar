{
  "nbformat": 4,
  "nbformat_minor": 0,
  "metadata": {
    "colab": {
      "name": "Embedding_monolingue_DD.ipynb",
      "provenance": [],
      "collapsed_sections": [],
      "authorship_tag": "ABX9TyOom9ri4KHiWBjwq6Z+52J7",
      "include_colab_link": true
    },
    "kernelspec": {
      "display_name": "Python 3",
      "name": "python3"
    },
    "language_info": {
      "name": "python"
    }
  },
  "cells": [
    {
      "cell_type": "markdown",
      "metadata": {
        "id": "view-in-github",
        "colab_type": "text"
      },
      "source": [
        "<a href=\"https://colab.research.google.com/github/claralanda/TFG_Clara_Landaribar/blob/main/Embedding_monolingue_DD.ipynb\" target=\"_parent\"><img src=\"https://colab.research.google.com/assets/colab-badge.svg\" alt=\"Open In Colab\"/></a>"
      ]
    },
    {
      "cell_type": "code",
      "metadata": {
        "id": "iimr4XY0wbmP"
      },
      "source": [
        "pip install -U sentence-transformers"
      ],
      "execution_count": null,
      "outputs": []
    },
    {
      "cell_type": "code",
      "metadata": {
        "colab": {
          "base_uri": "https://localhost:8080/"
        },
        "id": "pmVu_1gYumr7",
        "outputId": "0aa1559e-e4a1-43bb-e4ed-1684b90866ab"
      },
      "source": [
        "\n",
        "import numpy as np\n",
        "import pandas as pd\n",
        "from sentence_transformers import SentenceTransformer, util\n",
        "import re\n",
        "from scipy import spatial\n",
        "from google.colab import drive\n",
        "drive.mount('/content/drive')\n",
        "\n",
        "%cd /content/drive/My \\Drive/Datos/BLEU\n",
        "\n",
        "DD_reference_dataset = pd.read_csv(\"DAILYD_translation_en2es.csv\")\n",
        "DD_translation_dataset = pd.read_csv(\"DAILYD_translation_es2en.csv\")\n",
        "\n",
        "DD_reference = DD_reference_dataset['SEG']\n",
        "DD_translation = DD_reference_dataset['translation']\n",
        "DD_candidate = DD_translation_dataset['translation']\n",
        "n_DD=len(DD_reference)\n",
        "print(len(DD_reference))"
      ],
      "execution_count": null,
      "outputs": [
        {
          "output_type": "stream",
          "text": [
            "Mounted at /content/drive\n",
            "/content/drive/My Drive/Datos/BLEU\n",
            "102968\n"
          ],
          "name": "stdout"
        }
      ]
    },
    {
      "cell_type": "code",
      "metadata": {
        "id": "9j4Eo031vNnn"
      },
      "source": [
        "model_0=SentenceTransformer('paraphrase-mpnet-base-v2')\n",
        "model_1=SentenceTransformer('paraphrase-TinyBERT-L6-v2')\n",
        "model_2=SentenceTransformer('paraphrase-distilroberta-base-v2')\n",
        "model_3=SentenceTransformer('paraphrase-MiniLM-L12-v2')\n",
        "model_4=SentenceTransformer('paraphrase-MiniLM-L6-v2')\n",
        "\n",
        "res_matriz=[]\n",
        "for x in range(len(DD_reference)):\n",
        "  ref = re.sub(r'\\s([?.!\",’](?:\\s|$))', r'\\1', DD_reference[x])\n",
        "  cand = re.sub(r'\\s([?.!\"](?:\\s|$))', r'\\1', DD_candidate[x])\n",
        "  emb_ref = [model_0.encode(ref),model_1.encode(ref),model_2.encode(ref),model_3.encode(ref),model_4.encode(ref)]\n",
        "  emb_cand = [model_0.encode(cand),model_1.encode(cand),model_2.encode(cand),model_3.encode(cand),model_4.encode(cand)]\n",
        "  coseno = [1-spatial.distance.cosine(emb_ref[0], emb_cand[0]),1-spatial.distance.cosine(emb_ref[1], emb_cand[1]),1-spatial.distance.cosine(emb_ref[2], emb_cand[2]),1-spatial.distance.cosine(emb_ref[3], emb_cand[3]),1-spatial.distance.cosine(emb_ref[4], emb_cand[4])]\n",
        "  res_matriz.append(coseno)\n"
      ],
      "execution_count": null,
      "outputs": []
    },
    {
      "cell_type": "code",
      "metadata": {
        "colab": {
          "background_save": true
        },
        "id": "TO88dNfOvXFJ"
      },
      "source": [
        "df=pd.DataFrame(res_matriz)\n",
        "df.to_excel(excel_writer = \"Cos_sim_monolingual_embeddings.xlsx\")"
      ],
      "execution_count": null,
      "outputs": []
    }
  ]
}