{
  "nbformat": 4,
  "nbformat_minor": 0,
  "metadata": {
    "colab": {
      "name": "Seleccion_modelo_multilingue.ipynb",
      "provenance": [],
      "collapsed_sections": [],
      "authorship_tag": "ABX9TyNchqPJxehh3mRwSsIB/l6C",
      "include_colab_link": true
    },
    "kernelspec": {
      "name": "python3",
      "display_name": "Python 3"
    },
    "language_info": {
      "name": "python"
    }
  },
  "cells": [
    {
      "cell_type": "markdown",
      "metadata": {
        "id": "view-in-github",
        "colab_type": "text"
      },
      "source": [
        "<a href=\"https://colab.research.google.com/github/claralanda/TFG_Clara_Landaribar/blob/main/Seleccion_modelo_multilingue.ipynb\" target=\"_parent\"><img src=\"https://colab.research.google.com/assets/colab-badge.svg\" alt=\"Open In Colab\"/></a>"
      ]
    },
    {
      "cell_type": "markdown",
      "metadata": {
        "id": "-3XH7SNEuH7L"
      },
      "source": [
        "Se va a calcular la correlación de Pearson entre los vectores n=392 obtenidos con los diferentes modelos multiligües de Sentence Tranformers y el vector de puntuaciones asignadas manualmente:"
      ]
    },
    {
      "cell_type": "code",
      "metadata": {
        "id": "RoMxj7IDua4j"
      },
      "source": [
        "import numpy as np\n",
        "import matplotlib.pyplot as plt\n",
        "import pandas as pd\n",
        "from scipy import spatial\n",
        "from scipy.stats.stats import pearsonr\n",
        "\n",
        "from google.colab import drive\n",
        "drive.mount('/content/drive')\n",
        "%cd /content/drive/My \\Drive/Datos/BLEU\n",
        "\n",
        "\n",
        "model_scores_data = pd.read_excel(\"Embedding_multilingue_DD_seleccion.xlsx\")\n",
        "manual_scores_data = pd.read_excel(\"Evaluacion_manual.xlsx\")\n",
        "\n",
        "model_0_scores = pd.DataFrame(model_scores_data, columns=['modelo_0'])\n",
        "model_1_scores = pd.DataFrame(model_scores_data, columns=['modelo_1'])\n",
        "model_2_scores = pd.DataFrame(model_scores_data, columns=['modelo_2'])\n",
        "model_3_scores = pd.DataFrame(model_scores_data, columns=['modelo_3'])\n",
        "model_4_scores = pd.DataFrame(model_scores_data, columns=['modelo_4'])\n",
        "model_5_scores = pd.DataFrame(model_scores_data, columns=['modelo_5'])\n",
        "\n",
        "manual_scores = pd.DataFrame(manual_scores_data)\n",
        "\n",
        "coef_coseno = [1-spatial.distance.cosine(my_scores, model_0_scores),1-spatial.distance.cosine(my_scores, model_1_scores),1-spatial.distance.cosine(my_scores, model_2_scores),1-spatial.distance.cosine(my_scores, model_3_scores),1-spatial.distance.cosine(my_scores, model_4_scores),1-spatial.distance.cosine(my_scores, model_5_scores)]\n",
        "print(coef_coseno)\n",
        "\n",
        "coef_pearson = [np.corrcoef(my_scores.T, model_0_scores.T),np.corrcoef(my_scores.T, model_1_scores.T),np.corrcoef(my_scores.T, model_2_scores.T),np.corrcoef(my_scores.T, model_3_scores.T),np.corrcoef(my_scores.T, model_4_scores.T),np.corrcoef(my_scores.T, model_5_scores.T)]\n",
        "print(coef_pearson)"
      ],
      "execution_count": null,
      "outputs": []
    },
    {
      "cell_type": "markdown",
      "metadata": {
        "id": "4bEAN8Ko8lfT"
      },
      "source": [
        "Gráfico de las valoraciones de los modelos con mayor similitud respecto a las valoraciones manuales:"
      ]
    },
    {
      "cell_type": "code",
      "metadata": {
        "id": "6smlHurr6az-"
      },
      "source": [
        "import matplotlib.pyplot as plt\n",
        "from numpy.polynomial import Polynomial\n",
        "\n",
        "x_values=range(len(my_scores))\n",
        "\n",
        "plt.title(\"Gráfica de funciones de prueba\")\n",
        "plt.grid()\n",
        "plt.axhline(y=0,color=\"r\")\n",
        "plt.axvline(x=0,color=\"r\")\n",
        "plt.plot(x_values,my_scores,'o',color='r')\n",
        "plt.plot(x_values,model_2_scores,'o',color='g')\n",
        "plt.plot(x_values,model_3_scores,'o',color='b')\n",
        "\n"
      ],
      "execution_count": null,
      "outputs": []
    }
  ]
}