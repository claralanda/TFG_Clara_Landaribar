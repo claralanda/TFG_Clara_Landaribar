{
  "nbformat": 4,
  "nbformat_minor": 0,
  "metadata": {
    "colab": {
      "name": "Embedding_multilingue_ED.ipynb",
      "provenance": [],
      "collapsed_sections": [],
      "authorship_tag": "ABX9TyMJeBLP6igf4+pZvB2SUr5x",
      "include_colab_link": true
    },
    "kernelspec": {
      "name": "python3",
      "display_name": "Python 3"
    },
    "language_info": {
      "name": "python"
    }
  },
  "cells": [
    {
      "cell_type": "markdown",
      "metadata": {
        "id": "view-in-github",
        "colab_type": "text"
      },
      "source": [
        "<a href=\"https://colab.research.google.com/github/claralanda/TFG_Clara_Landaribar/blob/main/Embedding_multilingue_ED.ipynb\" target=\"_parent\"><img src=\"https://colab.research.google.com/assets/colab-badge.svg\" alt=\"Open In Colab\"/></a>"
      ]
    },
    {
      "cell_type": "code",
      "metadata": {
        "id": "8rVBpqnBdxtv"
      },
      "source": [
        "pip install -U sentence-transformers"
      ],
      "execution_count": null,
      "outputs": []
    },
    {
      "cell_type": "code",
      "metadata": {
        "colab": {
          "base_uri": "https://localhost:8080/"
        },
        "id": "f5_tZCaIeB8Y",
        "outputId": "00bb13f8-aab9-4bf3-8be6-739483b52748"
      },
      "source": [
        "import numpy as np\n",
        "import pandas as pd\n",
        "%cd /content/drive/My \\Drive/Datos/BLEU\n",
        "from google.colab import drive\n",
        "drive.mount('/content/drive')\n",
        "\n",
        "ED_reference_dataset = pd.read_csv(\"MPATHY_translation_en2es.csv\")\n",
        "ED_translation_dataset = pd.read_csv(\"MPATHY_translation_es2en.csv\")\n",
        "\n",
        "ED_reference = ED_reference_dataset['SEG']\n",
        "ED_translation = ED_reference_dataset['translation']\n",
        "ED_candidate = ED_translation_dataset['translation']\n",
        "print(len(ED_reference))\n"
      ],
      "execution_count": null,
      "outputs": [
        {
          "output_type": "stream",
          "text": [
            "/content/drive/My Drive/Datos/BLEU\n",
            "Drive already mounted at /content/drive; to attempt to forcibly remount, call drive.mount(\"/content/drive\", force_remount=True).\n",
            "107220\n"
          ],
          "name": "stdout"
        }
      ]
    },
    {
      "cell_type": "code",
      "metadata": {
        "id": "rel_mBuPeTp3"
      },
      "source": [
        "from sentence_transformers import SentenceTransformer, util\n",
        "model = SentenceTransformer('paraphrase-xlm-r-multilingual-v1')\n",
        "import re\n",
        "from scipy import spatial\n",
        "\n",
        "res_matriz = []\n",
        "\n",
        "for x in range(78514, len(ED_reference)):\n",
        "  ref = re.sub(r'\\s([?.!\",’](?:\\s|$))', r'\\1', ED_reference[x])\n",
        "  trans = re.sub(r'\\s([?.!\"](?:\\s|$))', r'\\1', ED_translation[x])\n",
        "\n",
        "  emb_ref = model.encode(ref)\n",
        "  emb_trans = model.encode(trans)\n",
        "  \n",
        "  cos_sim = 1-spatial.distance.cosine(emb_ref, emb_trans)\n",
        "\n",
        "  res_matriz.append(cos_sim)"
      ],
      "execution_count": null,
      "outputs": []
    },
    {
      "cell_type": "code",
      "metadata": {
        "id": "rjGa_ua2fnzm"
      },
      "source": [
        "dt=pd.DataFrame(res_matriz)\n",
        "df.columns = ['modelo_3_multi']\n",
        "dt.to_excel(excel_writer = \"Embedding_modelo_3_multi_ED.xlsx\")"
      ],
      "execution_count": null,
      "outputs": []
    }
  ]
}