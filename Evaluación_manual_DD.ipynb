{
  "nbformat": 4,
  "nbformat_minor": 0,
  "metadata": {
    "colab": {
      "name": "Evaluación_manual_DD.ipynb",
      "provenance": [],
      "collapsed_sections": [],
      "authorship_tag": "ABX9TyPk/mO3kknyQ3XXtOX/9ARM",
      "include_colab_link": true
    },
    "kernelspec": {
      "name": "python3",
      "display_name": "Python 3"
    },
    "language_info": {
      "name": "python"
    }
  },
  "cells": [
    {
      "cell_type": "markdown",
      "metadata": {
        "id": "view-in-github",
        "colab_type": "text"
      },
      "source": [
        "<a href=\"https://colab.research.google.com/github/claralanda/TFG_Clara_Landaribar/blob/main/Evaluaci%C3%B3n_manual_DD.ipynb\" target=\"_parent\"><img src=\"https://colab.research.google.com/assets/colab-badge.svg\" alt=\"Open In Colab\"/></a>"
      ]
    },
    {
      "cell_type": "code",
      "metadata": {
        "id": "tUMILMyQnA9w"
      },
      "source": [
        "import pandas as pd\n",
        "import numpy as np\n",
        "import matplotlib.pyplot as plt\n",
        "%matplotlib inline\n",
        "import seaborn as sns\n",
        "\n",
        "from google.colab import drive\n",
        "drive.mount('/content/drive')\n",
        "\n",
        "%cd /content/drive/My \\Drive/Datos/BLEU"
      ],
      "execution_count": null,
      "outputs": []
    },
    {
      "cell_type": "markdown",
      "metadata": {
        "id": "hBzYyunjgr90"
      },
      "source": [
        "Obtención puntuaciones manuales:"
      ]
    },
    {
      "cell_type": "code",
      "metadata": {
        "id": "fw-cNozFgCjK"
      },
      "source": [
        "DD_reference_dataset = pd.read_csv(\"DAILYD_translation_en2es.csv\")\n",
        "DD_reference = DD_reference_dataset['SEG']\n",
        "DD_translation = DD_reference_dataset['translation']\n",
        "mis_puntuaciones = []\n",
        "\n",
        "for x in range(len(DD_reference)):\n",
        "  print(x, DD_reference[x])\n",
        "  print(DD_translation[x])\n",
        "  puntuacion = input('Insertar puntuación de la traducción')\n",
        "  mis_puntuaciones.append(puntuacion)"
      ],
      "execution_count": null,
      "outputs": []
    },
    {
      "cell_type": "code",
      "metadata": {
        "id": "v_zZHxOzpqjh"
      },
      "source": [
        "df=pd.DataFrame(mis_puntuaciones)\n",
        "df.columns = ['puntuacion']\n",
        "df.to_excel(excel_writer = \"Evaluacion_manual.xlsx\")"
      ],
      "execution_count": null,
      "outputs": []
    }
  ]
}